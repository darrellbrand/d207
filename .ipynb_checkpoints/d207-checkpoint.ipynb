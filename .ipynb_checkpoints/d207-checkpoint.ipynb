{
 "cells": [
  {
   "cell_type": "markdown",
   "id": "8f8ac4be-b8f7-4724-879c-8863c2552027",
   "metadata": {},
   "source": [
    "# A\n",
    "\n",
    "## 1) \n",
    "    Is there a relationship between number of contacts to tech support,  and churn?\n",
    "\n",
    "## 2)\n",
    "    The stakeholders in the organization will benefit from an analyis of the data because if there is a relationship between these two variables, the organization can take actions to reduce the number of contacts to tech support.\n",
    "\n",
    "## 3)\n",
    "    The relevant data used to answer the question in A1 will be the 'Contacts' column and the 'Churn' column from the Churn data set.\n",
    "    \n",
    "    "
   ]
  },
  {
   "cell_type": "markdown",
   "id": "41cce123-c412-4b9f-a12e-6998a06165a5",
   "metadata": {},
   "source": [
    "# B)\n",
    "\n",
    "## 1) "
   ]
  },
  {
   "cell_type": "code",
   "execution_count": 1,
   "id": "4da880ee-555b-4a19-a426-9ce3991a17dd",
   "metadata": {},
   "outputs": [
    {
     "name": "stdout",
     "output_type": "stream",
     "text": [
      "t-statistic: 0.8566219322168955\n",
      "p-value: 0.3916743913251065\n"
     ]
    }
   ],
   "source": [
    "import pandas as pd\n",
    "import matplotlib.pyplot as plt\n",
    "import seaborn as sns\n",
    "import numpy as np\n",
    "from scipy.stats import ttest_ind\n",
    "# Replace 'file_path.csv' with the path to your CSV file\n",
    "df = pd.read_csv('churn_clean.csv')\n",
    "\n",
    "\n",
    "\n",
    "# Separate number of contacts column into two different groups by churn value\n",
    "seriesYes = pd.Series(df.loc[df['Churn'] == 'Yes', 'Contacts'])\n",
    "seriesNo = pd.Series(df.loc[df['Churn'] == 'No', 'Contacts'])\n",
    "# Perform t-test\n",
    "t_statistic, p_value = ttest_ind(seriesYes, seriesNo)\n",
    "\n",
    "# Print results\n",
    "print(\"t-statistic:\", t_statistic)\n",
    "print(\"p-value:\", p_value)"
   ]
  },
  {
   "cell_type": "code",
   "execution_count": null,
   "id": "dfe55c7f-a563-4315-8fe5-de7881e2ef4b",
   "metadata": {},
   "outputs": [],
   "source": []
  },
  {
   "cell_type": "markdown",
   "id": "e1a86a5e-b319-4564-929a-862dcd3b77af",
   "metadata": {},
   "source": [
    "\n",
    "\n",
    "## 2)\n",
    "\n",
    "    Null hypotheses = There is no difference in mean of the number of 'Contacts' between the two groups separated by 'Churn'.\n",
    "\n",
    "     Alternative hypotheses = There is a difference in mean of the number of 'Contacts' between the two groups separated by 'Churn'.\n",
    "\n",
    "     Alpha = 0.05\n",
    "\n",
    "     Result = fail to reject null hypotheses. p-value greater than alpha.  0.3916 > 0.05.\n",
    "\n",
    "     There is not a meaningful difference between the mean number of contacts to tech support between two groups separated by 'Churn'.\n",
    "\n",
    "\n",
    "## 3)\n",
    "\n",
    "    I chose this analysis technique because I wanted to test the relationship betwen only two groups. Also my predicter variable is continuous. If I wanted to test more than two groups I would use anova test.\n",
    "    "
   ]
  },
  {
   "cell_type": "markdown",
   "id": "5bb5d1d0-b07b-4277-ac9c-ec7cd236ed6c",
   "metadata": {},
   "source": [
    "# C)\n",
    "\n",
    "## 1)\n",
    "\n",
    "\n"
   ]
  },
  {
   "cell_type": "code",
   "execution_count": 2,
   "id": "ab9ab859-8c62-4aa9-b615-87c919a1bd90",
   "metadata": {},
   "outputs": [],
   "source": [
    "\n",
    "#helper functions \n",
    "#function to plot histogram\n",
    "def plot_hist(col_name, num_bins, do_rotate=False):\n",
    "    plt.hist(df[col_name], bins=num_bins)\n",
    "    plt.xlabel(col_name)\n",
    "    plt.ylabel('Frequency')\n",
    "    plt.title(f'Histogram of {col_name}')\n",
    "    if do_rotate:\n",
    "        plt.xticks(rotation=90)\n",
    "    plt.show()\n",
    "#function to describe column\n",
    "def print_desc(col_name):\n",
    "    print(df[col_name].describe())\n"
   ]
  },
  {
   "cell_type": "code",
   "execution_count": 3,
   "id": "597298f5-024b-4e4a-87b6-74a2438adc70",
   "metadata": {},
   "outputs": [
    {
     "data": {
      "image/png": "[encoded data removed]",
      "text/plain": [
       "<Figure size 432x288 with 1 Axes>"
      ]
     },
     "metadata": {
      "needs_background": "light"
     },
     "output_type": "display_data"
    },
    {
     "name": "stdout",
     "output_type": "stream",
     "text": [
      "count        10000\n",
      "unique           3\n",
      "top       Suburban\n",
      "freq          3346\n",
      "Name: Area, dtype: object\n",
      "0    Suburban\n",
      "dtype: object\n"
     ]
    }
   ],
   "source": [
    "#categorical\n",
    "plot_hist(\"Area\",5,True)\n",
    "print_desc(\"Area\")\n",
    "print(df[\"Area\"].mode())"
   ]
  },
  {
   "cell_type": "markdown",
   "id": "50d73c5b-9cc0-435c-8fff-a0c7bf2dde30",
   "metadata": {},
   "source": [
    "#### The mode is 'Suburban'"
   ]
  },
  {
   "cell_type": "code",
   "execution_count": 4,
   "id": "11862b64-be78-4a56-ba08-3381283a0f82",
   "metadata": {},
   "outputs": [
    {
     "data": {
      "image/png": "[encoded data removed]",
      "text/plain": [
       "<Figure size 432x288 with 1 Axes>"
      ]
     },
     "metadata": {
      "needs_background": "light"
     },
     "output_type": "display_data"
    },
    {
     "name": "stdout",
     "output_type": "stream",
     "text": [
      "count    10000.0000\n",
      "mean         2.0877\n",
      "std          2.1472\n",
      "min          0.0000\n",
      "25%          0.0000\n",
      "50%          1.0000\n",
      "75%          3.0000\n",
      "max         10.0000\n",
      "Name: Children, dtype: float64\n"
     ]
    }
   ],
   "source": [
    "\n",
    "#continuous\n",
    "plot_hist(\"Children\",20)\n",
    "print_desc(\"Children\")"
   ]
  },
  {
   "cell_type": "markdown",
   "id": "5dadd514-105f-4409-8a80-d39a6bb61ca9",
   "metadata": {},
   "source": [
    "#### The distribution of 'Children' looks like it is positively skewed."
   ]
  },
  {
   "cell_type": "code",
   "execution_count": 5,
   "id": "d4febe33-ad59-4b6f-858b-4764dd08249d",
   "metadata": {},
   "outputs": [
    {
     "data": {
      "image/png": "[encoded data removed]",
      "text/plain": [
       "<Figure size 432x288 with 1 Axes>"
      ]
     },
     "metadata": {
      "needs_background": "light"
     },
     "output_type": "display_data"
    },
    {
     "name": "stdout",
     "output_type": "stream",
     "text": [
      "count           10000\n",
      "unique              3\n",
      "top       Fiber Optic\n",
      "freq             4408\n",
      "Name: InternetService, dtype: object\n",
      "0    Fiber Optic\n",
      "dtype: object\n"
     ]
    }
   ],
   "source": [
    "#categorical\n",
    "plot_hist(\"InternetService\",5,True)\n",
    "print_desc(\"InternetService\")\n",
    "print(df[\"InternetService\"].mode())"
   ]
  },
  {
   "cell_type": "markdown",
   "id": "7ed29272-79af-4015-b0a6-2f8a20287eb5",
   "metadata": {},
   "source": [
    "#### The mode of 'InternetService' is Fiber Optic."
   ]
  },
  {
   "cell_type": "code",
   "execution_count": 6,
   "id": "b30289b5-d62b-401c-8af5-bbec19f0f10f",
   "metadata": {},
   "outputs": [
    {
     "data": {
      "image/png": "[encoded data removed]",
      "text/plain": [
       "<Figure size 432x288 with 1 Axes>"
      ]
     },
     "metadata": {
      "needs_background": "light"
     },
     "output_type": "display_data"
    },
    {
     "name": "stdout",
     "output_type": "stream",
     "text": [
      "count     10000.000000\n",
      "mean      39806.926771\n",
      "std       28199.916702\n",
      "min         348.670000\n",
      "25%       19224.717500\n",
      "50%       33170.605000\n",
      "75%       53246.170000\n",
      "max      258900.700000\n",
      "Name: Income, dtype: float64\n"
     ]
    }
   ],
   "source": [
    "#continuous.\n",
    "plot_hist(\"Income\",50)\n",
    "print_desc(\"Income\")"
   ]
  },
  {
   "cell_type": "markdown",
   "id": "81891b5f-991e-46a4-bed2-15a3c546cc21",
   "metadata": {},
   "source": [
    "#### The distribution of 'Income' is positively skewed."
   ]
  },
  {
   "cell_type": "markdown",
   "id": "8e40db54-8408-46ea-90e7-3388ad858388",
   "metadata": {},
   "source": [
    "# D)\n",
    " ## 1)"
   ]
  },
  {
   "cell_type": "code",
   "execution_count": 7,
   "id": "c86d121e-bd67-4652-bac7-e510d4c9d45a",
   "metadata": {},
   "outputs": [
    {
     "data": {
      "image/png": "[encoded data removed]",
      "text/plain": [
       "<Figure size 432x288 with 1 Axes>"
      ]
     },
     "metadata": {
      "needs_background": "light"
     },
     "output_type": "display_data"
    },
    {
     "name": "stdout",
     "output_type": "stream",
     "text": [
      "count     10000.000000\n",
      "mean      39806.926771\n",
      "std       28199.916702\n",
      "min         348.670000\n",
      "25%       19224.717500\n",
      "50%       33170.605000\n",
      "75%       53246.170000\n",
      "max      258900.700000\n",
      "Name: Income, dtype: float64\n",
      "count    10000.0000\n",
      "mean         2.0877\n",
      "std          2.1472\n",
      "min          0.0000\n",
      "25%          0.0000\n",
      "50%          1.0000\n",
      "75%          3.0000\n",
      "max         10.0000\n",
      "Name: Children, dtype: float64\n"
     ]
    }
   ],
   "source": [
    "plt.scatter(df['Children'], df['Income'])\n",
    "plt.xlabel('Children')\n",
    "plt.ylabel('Income')\n",
    "plt.title('Scatter Plot of Children and Income')\n",
    "# Show plot\n",
    "plt.show()\n",
    "print_desc('Income')\n",
    "print_desc('Children')"
   ]
  },
  {
   "cell_type": "markdown",
   "id": "f3f86936-d022-4ac0-9337-caf1c825d005",
   "metadata": {},
   "source": [
    "#### This distribution looks positively skewed. "
   ]
  },
  {
   "cell_type": "code",
   "execution_count": 8,
   "id": "8c58f099-fc85-493a-8817-02d2af9d46e2",
   "metadata": {
    "scrolled": true
   },
   "outputs": [
    {
     "data": {
      "image/png": "[encoded data removed]",
      "text/plain": [
       "<Figure size 432x288 with 1 Axes>"
      ]
     },
     "metadata": {
      "needs_background": "light"
     },
     "output_type": "display_data"
    },
    {
     "name": "stdout",
     "output_type": "stream",
     "text": [
      "0    Suburban\n",
      "dtype: object\n",
      "0    Fiber Optic\n",
      "dtype: object\n",
      "count        10000\n",
      "unique           3\n",
      "top       Suburban\n",
      "freq          3346\n",
      "Name: Area, dtype: object\n",
      "count           10000\n",
      "unique              3\n",
      "top       Fiber Optic\n",
      "freq             4408\n",
      "Name: InternetService, dtype: object\n"
     ]
    }
   ],
   "source": [
    "# create crosstab bar graph \n",
    "cross_tab = pd.crosstab(df['Area'], df['InternetService'])\n",
    "\n",
    "# Plot the bivariate bar plot\n",
    "cross_tab.plot(kind='bar')\n",
    "\n",
    "# Add labels and title\n",
    "plt.xlabel('Area')\n",
    "plt.ylabel('Count')\n",
    "plt.title('Bivariate Bar Plot of Two Categorical Variables')\n",
    "plt.legend(title='InternetService', bbox_to_anchor=(1, 1.02), \n",
    "         loc='upper left')\n",
    "# Show plot\n",
    "plt.show()\n",
    "print(df['Area'].mode())\n",
    "print(df['InternetService'].mode())\n",
    "print_desc('Area')\n",
    "print_desc('InternetService')"
   ]
  },
  {
   "cell_type": "markdown",
   "id": "80f193b4-0bb1-4100-87b0-5546ab623727",
   "metadata": {},
   "source": [
    "The mode for 'Area' is 'Suburban'. The mode for 'InternetService' is 'Fiber Optic'. "
   ]
  },
  {
   "cell_type": "markdown",
   "id": "91eeec8f-09f1-4553-9059-d5b61e0b7b96",
   "metadata": {},
   "source": [
    "# E)\n",
    "\n",
    "## 1)\n",
    "\n",
    "There is no correlation between contacts to tech support and customer churn. I failed to reject the null hypothesis. In my hypothesis test, because the p value was greater than alpha of 0.05, there is no difference in mean contacts to tech support between groups of people who canceled service and those who did not based on churn.\n",
    "\n",
    "## 2)\n",
    "  The limits of the data analysis done with hypothesis testing is that the results could be different if we had a larger sample size. Also the t-test works best on data with a normal distribution. Other than that I think it is a pretty good analysis.\n",
    "\n",
    "## 3)\n",
    "  Based on the results of the hypothesis test I think the organization should focus their resources on other aspects of their service provison in order to reduce customer churn. This is based on the observation that customers who canceled service or 'Churn' and those who did not, don't have a difference in mean numbers of contacts to tech support or 'Contacts'. In other words 'Contacts' does not seem to be correlated to 'Churn'.\n"
   ]
  },
  {
   "cell_type": "markdown",
   "id": "95995418-022f-43dd-9b21-db903df045fb",
   "metadata": {},
   "source": [
    "#  G)\n",
    " ### citations\n",
    "\n",
    " \n",
    "GfG (2022) Using pandas crosstab to create a bar plot, GeeksforGeeks. Available at: https://www.geeksforgeeks.org/using-pandas-crosstab-to-create-a-bar-plot/ (Accessed: 07 April 2024). \n",
    "\n",
    "\n",
    "Barbara Illowsky & OpenStax et al. (no date) Introduction to statistics, Lumen. Available at: https://courses.lumenlearning.com/introstats1/chapter/null-and-alternative-hypotheses/#:~:text=In%20a%20hypothesis%20test%2C%20we,the%20hypothesis%20test%20shows%20otherwise. (Accessed: 07 April 2024). \n",
    "\n",
    "\n",
    "Residentmario (2018) Bivariate plotting with Pandas, Kaggle. Available at: https://www.kaggle.com/code/residentmario/bivariate-plotting-with-pandas (Accessed: 07 April 2024).\n",
    "\n",
    "(PDF) http://www.scirp.org/journal/paperinformation.aspx?paperid=19966. (n.d.). https://www.researchgate.net/publication/273338628_httpwwwscirporgjournalPaperInformationaspxPaperID19966 \n"
   ]
  },
  {
   "cell_type": "code",
   "execution_count": null,
   "id": "7c9de89d-831a-4bd9-8962-ff76ce7ae41d",
   "metadata": {},
   "outputs": [],
   "source": []
  }
 ],
 "metadata": {
  "kernelspec": {
   "display_name": "Python 3 (ipykernel)",
   "language": "python",
   "name": "python3"
  },
  "language_info": {
   "codemirror_mode": {
    "name": "ipython",
    "version": 3
   },
   "file_extension": ".py",
   "mimetype": "text/x-python",
   "name": "python",
   "nbconvert_exporter": "python",
   "pygments_lexer": "ipython3",
   "version": "3.10.12"
  }
 },
 "nbformat": 4,
 "nbformat_minor": 5
}
